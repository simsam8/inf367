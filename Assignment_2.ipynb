{
 "cells": [
  {
   "attachments": {},
   "cell_type": "markdown",
   "metadata": {},
   "source": [
    "# Assignment 2\n",
    "\n",
    "## About\n",
    "\n",
    "This week we will be programming.\n",
    "\n",
    "<font color='red'>Before you start, make sure to install the following packages:\n",
    "\n",
    "- qiskit\n",
    "- qiskit[visualization]\n",
    "- qiskit-aer\n",
    "\n",
    "</font>\n",
    "\n",
    "You *can* use the boilerplate, but you certainly don't need to."
   ]
  },
  {
   "attachments": {},
   "cell_type": "markdown",
   "metadata": {},
   "source": [
    "## Tips\n",
    "\n",
    "- Implement circuits using Qiskit\n",
    "- Feel free to use your favourite library for the calculations\n",
    "- If you choose to use Numpy:\n",
    "    - You can represent vectors and matrices using *numpy.array(...)*\n",
    "    - Caclulate matrix multiplication with *@* or *numpy.matmul(...)*\n",
    "    - Calculate Tensor product with *numpy.kron(...)* \n",
    "    - Create identity matrix of dimension *d* with *numpy.eye(d)*\n",
    "    - To get the complex conjugate transpose of a matrix you can use *.conj().T*\n",
    "- If you like latex you can pretty-print your results using *array_to_latex(...)*\n",
    "- <font color='red'>Be aware of Qiskit's ordering of qubits:</font> https://qiskit.org/documentation/explanation/endianness.html"
   ]
  },
  {
   "attachments": {},
   "cell_type": "markdown",
   "metadata": {},
   "source": [
    "## Imports"
   ]
  },
  {
   "cell_type": "code",
   "execution_count": 1,
   "metadata": {},
   "outputs": [],
   "source": [
    "from qiskit import QuantumCircuit, transpile\n",
    "from qiskit_aer import QasmSimulator\n",
    "from qiskit.visualization import array_to_latex\n",
    "import numpy as np"
   ]
  },
  {
   "attachments": {},
   "cell_type": "markdown",
   "metadata": {},
   "source": [
    "## Excercises\n",
    "\n",
    "### 1\n",
    "\n",
    "Create variables *ket0* and *ket1* representing $|0\\rangle $ and $ |1\\rangle $ (Z-basis states)\n",
    "\n",
    "(Pretty) print *ket1* and make sure it has the correct dimensions"
   ]
  },
  {
   "cell_type": "code",
   "execution_count": 16,
   "metadata": {},
   "outputs": [
    {
     "data": {
      "text/latex": [
       "$$\n",
       "\n",
       "\\begin{bmatrix}\n",
       "0  \\\\\n",
       " 1  \\\\\n",
       " \\end{bmatrix}\n",
       "$$"
      ],
      "text/plain": [
       "<IPython.core.display.Latex object>"
      ]
     },
     "execution_count": 16,
     "metadata": {},
     "output_type": "execute_result"
    }
   ],
   "source": [
    "ket0 = np.array([[1,0]]).T\n",
    "ket1 = np.array([[0,1]]).T\n",
    "\n",
    "array_to_latex(ket1)"
   ]
  },
  {
   "attachments": {},
   "cell_type": "markdown",
   "metadata": {},
   "source": [
    "### 2\n",
    "\n",
    "Construct a matrix *X* that corresponds to the X-gate. Use the Dirac notation of X-gate, as described in the lecture notes, to construct *X* from *ket0* and *ket1*\n",
    "\n",
    "(Pretty) print *X* and make sure it has the correct dimensions and values"
   ]
  },
  {
   "cell_type": "code",
   "execution_count": 17,
   "metadata": {},
   "outputs": [
    {
     "data": {
      "text/latex": [
       "$$\n",
       "\n",
       "\\begin{bmatrix}\n",
       "0 & 1  \\\\\n",
       " 1 & 0  \\\\\n",
       " \\end{bmatrix}\n",
       "$$"
      ],
      "text/plain": [
       "<IPython.core.display.Latex object>"
      ]
     },
     "execution_count": 17,
     "metadata": {},
     "output_type": "execute_result"
    }
   ],
   "source": [
    "X = ket0 @ ket1.conj().T + ket1 @ ket0.conj().T\n",
    "\n",
    "#Test\n",
    "array_to_latex(X)"
   ]
  },
  {
   "attachments": {},
   "cell_type": "markdown",
   "metadata": {},
   "source": [
    "### 3\n",
    "\n",
    "Function *create_CU_gate(U)* takes a unary gate *U* as input. Implement the function so that it returns the controlled version of *U*\n",
    "\n",
    "Create & print a *CX*-gate"
   ]
  },
  {
   "cell_type": "code",
   "execution_count": null,
   "metadata": {},
   "outputs": [],
   "source": [
    "def create_CU_gate(U):\n",
    "    pass\n",
    "\n",
    "CX = create_CU_gate(X)\n",
    "\n",
    "#Test\n",
    "array_to_latex(CX)"
   ]
  },
  {
   "attachments": {},
   "cell_type": "markdown",
   "metadata": {},
   "source": [
    "### 4\n",
    "\n",
    "Function *create_swap_gate()* takes no input. Implement the function so that it returns a binary *swap* gate"
   ]
  },
  {
   "cell_type": "code",
   "execution_count": null,
   "metadata": {},
   "outputs": [],
   "source": [
    "def create_swap_gate():\n",
    "   pass\n",
    "\n",
    "#Test\n",
    "array_to_latex(create_swap_gate())"
   ]
  },
  {
   "attachments": {},
   "cell_type": "markdown",
   "metadata": {},
   "source": [
    "### 5\n",
    "\n",
    "Function *reverse_CU_gate(U)* takes a binary CU-gate *CU* as input. Implement the function so that it returns the reverse of *CU*\n",
    "\n",
    "(Following Philip's notation from the lecture notes) Create & print the *XƆ* gate"
   ]
  },
  {
   "cell_type": "code",
   "execution_count": null,
   "metadata": {},
   "outputs": [],
   "source": [
    "def reverse_CU_gate(CU):\n",
    "    pass\n",
    "\n",
    "XƆ = ...\n",
    "\n",
    "#Test\n",
    "array_to_latex(XƆ)"
   ]
  },
  {
   "attachments": {},
   "cell_type": "markdown",
   "metadata": {},
   "source": [
    "### 6\n",
    "\n",
    "Function *CXSwap()* takes no input. Can you implement the function so that it constructs the binary *swap* gate by using a combination of controlled NOT-gates?"
   ]
  },
  {
   "cell_type": "code",
   "execution_count": null,
   "metadata": {},
   "outputs": [],
   "source": [
    "def CXSwap():\n",
    "    pass\n",
    "\n",
    "#Test\n",
    "array_to_latex(CXSwap())"
   ]
  },
  {
   "attachments": {},
   "cell_type": "markdown",
   "metadata": {},
   "source": [
    "### 7\n",
    "\n",
    "Create a backend with *QasmSimulator()*\n",
    "\n",
    "Using Qiskit's *QuantumCircuit*: \n",
    "- Create a circuit with two qubits.\n",
    "- Apply a X-gate to the first qubit\n",
    "- Display the circuit using *draw(...)*"
   ]
  },
  {
   "cell_type": "code",
   "execution_count": null,
   "metadata": {},
   "outputs": [],
   "source": [
    "#Get backend\n",
    "backend = ...\n",
    "\n",
    "#Create a QuantumCircuit with 2 qubits\n",
    "qc = ...\n",
    "\n",
    "#Apply x gate to first qubit\n",
    "...\n",
    "\n",
    "#Display circuit\n",
    "qc.draw(\"mpl\")"
   ]
  },
  {
   "attachments": {},
   "cell_type": "markdown",
   "metadata": {},
   "source": [
    "### 8\n",
    "\n",
    "Create a function *get_state_vector(qc)* that takes a *QuantumCircuit* as input and:\n",
    "\n",
    "- Saves statevector\n",
    "- Executes circuit and retrieves result\n",
    "- returns the statevector. \n",
    "\n",
    "Run *get_state_vector* with the circuit from task 7 as a parameter. (pretty)print results. Did you get what you expected?"
   ]
  },
  {
   "cell_type": "code",
   "execution_count": null,
   "metadata": {},
   "outputs": [],
   "source": [
    "def get_state_vector(qc: QuantumCircuit):\n",
    "\n",
    "    #Save the state vector\n",
    "    ...\n",
    "    \n",
    "    #Execute & get result\n",
    "    ...\n",
    "    \n",
    "    #Return state vector\n",
    "    ...\n",
    "\n",
    "sv = get_state_vector(qc)\n",
    "array_to_latex(sv)"
   ]
  },
  {
   "attachments": {},
   "cell_type": "markdown",
   "metadata": {},
   "source": [
    "### 9\n",
    "\n",
    "Implement the Bell states. Use *get_state_vector(...)* to verify your results."
   ]
  },
  {
   "attachments": {},
   "cell_type": "markdown",
   "metadata": {},
   "source": [
    "#### $|Φ^+⟩$"
   ]
  },
  {
   "cell_type": "code",
   "execution_count": null,
   "metadata": {},
   "outputs": [],
   "source": [
    "qc = QuantumCircuit(2)\n",
    "\n",
    "...\n",
    "\n",
    "array_to_latex(get_state_vector(qc))"
   ]
  },
  {
   "attachments": {},
   "cell_type": "markdown",
   "metadata": {},
   "source": [
    "#### $|Φ^-⟩$"
   ]
  },
  {
   "cell_type": "code",
   "execution_count": null,
   "metadata": {},
   "outputs": [],
   "source": [
    "qc = QuantumCircuit(2)\n",
    "\n",
    "...\n",
    "\n",
    "array_to_latex(get_state_vector(qc))"
   ]
  },
  {
   "attachments": {},
   "cell_type": "markdown",
   "metadata": {},
   "source": [
    "#### $|Ψ^+⟩$"
   ]
  },
  {
   "cell_type": "code",
   "execution_count": null,
   "metadata": {},
   "outputs": [],
   "source": [
    "qc = QuantumCircuit(2)\n",
    "\n",
    "...\n",
    "\n",
    "array_to_latex(get_state_vector(qc))"
   ]
  },
  {
   "attachments": {},
   "cell_type": "markdown",
   "metadata": {},
   "source": [
    "#### $|Ψ^-⟩$"
   ]
  },
  {
   "cell_type": "code",
   "execution_count": null,
   "metadata": {},
   "outputs": [],
   "source": [
    "qc = QuantumCircuit(2)\n",
    "\n",
    "...\n",
    "\n",
    "array_to_latex(get_state_vector(qc))"
   ]
  }
 ],
 "metadata": {
  "kernelspec": {
   "display_name": "Python 3 (ipykernel)",
   "language": "python",
   "name": "python3"
  },
  "language_info": {
   "codemirror_mode": {
    "name": "ipython",
    "version": 3
   },
   "file_extension": ".py",
   "mimetype": "text/x-python",
   "name": "python",
   "nbconvert_exporter": "python",
   "pygments_lexer": "ipython3",
   "version": "3.10.12"
  }
 },
 "nbformat": 4,
 "nbformat_minor": 4
}
