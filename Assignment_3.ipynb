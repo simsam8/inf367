{
 "cells": [
  {
   "attachments": {},
   "cell_type": "markdown",
   "metadata": {},
   "source": [
    "# Assignment 3\n",
    "\n",
    "## About\n",
    "\n",
    "Make sure to put all the contents from the zip file into the same directory as this notebook.\n",
    "\n",
    "You are free the use the boilerplate code if you wish, but you do not have to. "
   ]
  },
  {
   "attachments": {},
   "cell_type": "markdown",
   "metadata": {},
   "source": [
    "## Imports"
   ]
  },
  {
   "cell_type": "code",
   "execution_count": 1,
   "metadata": {},
   "outputs": [],
   "source": [
    "from qiskit import QuantumCircuit, transpile\n",
    "from qiskit.quantum_info import Statevector, Operator\n",
    "from qiskit_aer import QasmSimulator\n",
    "from qiskit.visualization import array_to_latex, plot_histogram\n",
    "from qiskit.circuit import Parameter, ParameterVector\n",
    "import numpy as np\n",
    "from copy import deepcopy"
   ]
  },
  {
   "cell_type": "markdown",
   "metadata": {},
   "source": [
    "## Reuse some code from Assignment 2"
   ]
  },
  {
   "cell_type": "code",
   "execution_count": 2,
   "metadata": {},
   "outputs": [],
   "source": [
    "# Z-basis states\n",
    "ket0 = np.array([[1], [0]], dtype=np.complex128)\n",
    "ket1 = np.array([[0], [1]], dtype=np.complex128)\n",
    "\n",
    "# X-gate\n",
    "X = ket0 @ ket1.conj().T + ket1 @ ket0.conj().T\n",
    "\n",
    "# Identity\n",
    "I = np.eye(2)\n",
    "\n",
    "# Complex\n",
    "i = 1j\n",
    "\n",
    "\n",
    "# Create controlled U gate\n",
    "def create_CU_gate(U):\n",
    "    return np.kron(ket0 @ ket0.conj().T, np.eye(2)) + np.kron(ket1 @ ket1.conj().T, U)\n",
    "\n",
    "\n",
    "# CX-gate\n",
    "CX = create_CU_gate(X)\n",
    "\n",
    "# Get backend\n",
    "backend = QasmSimulator()\n",
    "\n",
    "\n",
    "#Get statevector from circuit\n",
    "def get_state_vector(qc: QuantumCircuit):\n",
    "    return Statevector(qc)"
   ]
  },
  {
   "cell_type": "markdown",
   "metadata": {},
   "source": [
    "## Excercises"
   ]
  },
  {
   "cell_type": "markdown",
   "metadata": {},
   "source": [
    "### Pen/Paper\n",
    "### 1\n",
    "\n",
    "Describe the following circuits as operators on the form $ U = (...\\otimes...) \\circ (...\\otimes...) \\circ ... $.\n",
    "\n",
    "<b>a)</b> In $ \\mathcal{H}^{\\otimes 3} $\n",
    "\n",
    "![title](Circuit1.png)\n",
    "\n",
    "<b>b)</b> In $ \\mathcal{H}^{\\otimes 4} $\n",
    "\n",
    "![title](Circuit2.png)"
   ]
  },
  {
   "cell_type": "markdown",
   "metadata": {},
   "source": [
    "a) $U = (H\\otimes I \\otimes T) \\circ (CX \\otimes I) \\circ (I \\otimes CX)$\n",
    "\n",
    "b) $U = (H\\otimes I \\otimes S \\otimes I) \\circ (I\\otimes CCX) \\circ (Tdg \\otimes I \\otimes I\\otimes I)$"
   ]
  },
  {
   "cell_type": "markdown",
   "metadata": {},
   "source": [
    "### Programming\n",
    "### 2 \n",
    "\n",
    "*Parameter* and *ParameterVector* from *qiskit.circuit* can be helful when building parametrized circuits.\n",
    "\n",
    "Implement the following operator as a circuit in Qiskit with four qubits in the initial state $|0000\\rangle$:\n",
    "\n",
    "$ U =  (Rx(θ_1) \\otimes Ry(θ_2) \\otimes Rz(λ_1) \\otimes U3(θ, ϕ, λ)) \\circ (I \\otimes I \\otimes CX) \\circ (I \\otimes CX \\otimes I) \\circ (CX \\otimes I \\otimes I) \\circ (H \\otimes I \\otimes I \\otimes I)  $"
   ]
  },
  {
   "cell_type": "code",
   "execution_count": 3,
   "metadata": {},
   "outputs": [
    {
     "data": {
      "image/png": "[encoded data removed]",
      "text/plain": [
       "<Figure size 538.33x367.889 with 1 Axes>"
      ]
     },
     "execution_count": 3,
     "metadata": {},
     "output_type": "execute_result"
    }
   ],
   "source": [
    "qc = QuantumCircuit(4)\n",
    "\n",
    "qc.h(3)\n",
    "qc.cx(3,2)\n",
    "qc.cx(2,1)\n",
    "qc.cx(1,0)\n",
    "qc.u(Parameter(\"$\\\\theta$\"), Parameter(\"$\\phi$\"), Parameter(\"$\\lambda$\"),0)\n",
    "qc.rz(Parameter(\"$\\lambda_1$\"), 1)\n",
    "qc.ry(Parameter(\"$\\\\theta_2$\"), 2)\n",
    "qc.rx(Parameter(\"$\\\\theta_1$\"), 3)\n",
    "\n",
    "\n",
    "qc.draw(\"mpl\", reverse_bits=True)"
   ]
  },
  {
   "attachments": {},
   "cell_type": "markdown",
   "metadata": {},
   "source": [
    "### 3\n",
    "\n",
    "<b>a)</b> Create a function *U3(θ, ϕ, λ)* that returns the *U3-gate matrix* for the specified parameters\n"
   ]
  },
  {
   "cell_type": "code",
   "execution_count": 4,
   "metadata": {},
   "outputs": [],
   "source": [
    "# a)\n",
    "def U3(θ, φ, λ) -> np.ndarray:\n",
    "    sin = np.sin(θ/2)\n",
    "    cos = np.cos(θ/2)\n",
    "    matrix = np.array([\n",
    "        [cos, -np.exp(i*λ)*sin],\n",
    "        [np.exp(i*φ)*sin, np.exp(i*(φ+λ))*cos]\n",
    "    ], dtype=\"complex\")\n",
    "    return matrix\n"
   ]
  },
  {
   "cell_type": "markdown",
   "metadata": {},
   "source": [
    "<b>b)</b> Express $ I, X, Y , Z, $ and $H$ as U3-gates. Test with your function from <b>a)</b>"
   ]
  },
  {
   "cell_type": "code",
   "execution_count": 5,
   "metadata": {},
   "outputs": [
    {
     "data": {
      "text/latex": [
       "$$\n",
       "\n",
       "\\begin{bmatrix}\n",
       "1 & 0  \\\\\n",
       " 0 & 1  \\\\\n",
       " \\end{bmatrix}\n",
       "$$"
      ],
      "text/plain": [
       "<IPython.core.display.Latex object>"
      ]
     },
     "execution_count": 5,
     "metadata": {},
     "output_type": "execute_result"
    }
   ],
   "source": [
    "# I\n",
    "array_to_latex(U3(0,0,0))"
   ]
  },
  {
   "cell_type": "code",
   "execution_count": 6,
   "metadata": {},
   "outputs": [
    {
     "data": {
      "text/latex": [
       "$$\n",
       "\n",
       "\\begin{bmatrix}\n",
       "0 & 1  \\\\\n",
       " 1 & 0  \\\\\n",
       " \\end{bmatrix}\n",
       "$$"
      ],
      "text/plain": [
       "<IPython.core.display.Latex object>"
      ]
     },
     "execution_count": 6,
     "metadata": {},
     "output_type": "execute_result"
    }
   ],
   "source": [
    "# X\n",
    "array_to_latex(U3(np.pi,0,np.pi))"
   ]
  },
  {
   "cell_type": "code",
   "execution_count": 7,
   "metadata": {},
   "outputs": [
    {
     "data": {
      "text/latex": [
       "$$\n",
       "\n",
       "\\begin{bmatrix}\n",
       "0 & - i  \\\\\n",
       " i & 0  \\\\\n",
       " \\end{bmatrix}\n",
       "$$"
      ],
      "text/plain": [
       "<IPython.core.display.Latex object>"
      ]
     },
     "execution_count": 7,
     "metadata": {},
     "output_type": "execute_result"
    }
   ],
   "source": [
    "# Y\n",
    "array_to_latex(U3(np.pi,np.pi/2,np.pi/2))"
   ]
  },
  {
   "cell_type": "code",
   "execution_count": 8,
   "metadata": {},
   "outputs": [
    {
     "data": {
      "text/latex": [
       "$$\n",
       "\n",
       "\\begin{bmatrix}\n",
       "1 & 0  \\\\\n",
       " 0 & -1  \\\\\n",
       " \\end{bmatrix}\n",
       "$$"
      ],
      "text/plain": [
       "<IPython.core.display.Latex object>"
      ]
     },
     "execution_count": 8,
     "metadata": {},
     "output_type": "execute_result"
    }
   ],
   "source": [
    "# Z\n",
    "array_to_latex(U3(0,0,np.pi))"
   ]
  },
  {
   "cell_type": "code",
   "execution_count": 9,
   "metadata": {},
   "outputs": [
    {
     "data": {
      "text/latex": [
       "$$\n",
       "\n",
       "\\begin{bmatrix}\n",
       "\\frac{\\sqrt{2}}{2} & \\frac{\\sqrt{2}}{2}  \\\\\n",
       " \\frac{\\sqrt{2}}{2} & - \\frac{\\sqrt{2}}{2}  \\\\\n",
       " \\end{bmatrix}\n",
       "$$"
      ],
      "text/plain": [
       "<IPython.core.display.Latex object>"
      ]
     },
     "execution_count": 9,
     "metadata": {},
     "output_type": "execute_result"
    }
   ],
   "source": [
    "# Hadamard\n",
    "array_to_latex(U3(np.pi/2,0,np.pi))"
   ]
  },
  {
   "cell_type": "markdown",
   "metadata": {},
   "source": [
    "<b>c)</b> The composition of two U3 gates is equivalent to another U3 gate. Create a function *U3_decompose(A: np.ndarray)* which takes in a U3 gate and calculates the angles $\\theta, \\phi$ and $\\lambda$, as well as the global phase $\\alpha$. Verify that you've successfully identified the correct values by comparing the results."
   ]
  },
  {
   "cell_type": "code",
   "execution_count": 10,
   "metadata": {},
   "outputs": [
    {
     "data": {
      "text/latex": [
       "$$\n",
       "\n",
       "\\begin{bmatrix}\n",
       "-0.302 - 0.431 i & -0.739 + 0.421 i  \\\\\n",
       " -0.587 - 0.616 i & 0.413 - 0.326 i  \\\\\n",
       " \\end{bmatrix}\n",
       "$$"
      ],
      "text/plain": [
       "<IPython.core.display.Latex object>"
      ]
     },
     "metadata": {},
     "output_type": "display_data"
    },
    {
     "name": "stdout",
     "output_type": "stream",
     "text": [
      "-2.181309069553885 2.0328904262388434 -0.1507685581321429 1.6638307757011535\n"
     ]
    },
    {
     "data": {
      "text/latex": [
       "$$\n",
       "\n",
       "\\begin{bmatrix}\n",
       "-0.302 - 0.431 i & -0.739 + 0.421 i  \\\\\n",
       " -0.587 - 0.616 i & 0.413 - 0.326 i  \\\\\n",
       " \\end{bmatrix}\n",
       "$$"
      ],
      "text/plain": [
       "<IPython.core.display.Latex object>"
      ]
     },
     "metadata": {},
     "output_type": "display_data"
    }
   ],
   "source": [
    "def U3_decompose(A: np.ndarray):\n",
    "    # make a deepcopy so we dont accidentally alter the original matrix\n",
    "    A = deepcopy(A)\n",
    "\n",
    "    θ = 2*np.arccos(np.absolute(A[0,0]))\n",
    "    phase_val = A[0,0]/np.cos(θ/2)\n",
    "    α = np.angle(A[0,0]/np.cos(θ/2))\n",
    "    λ = np.angle(-1*A[0,1]/phase_val)\n",
    "    φ = np.angle(A[1,0]/phase_val)\n",
    "\n",
    "    print(α, θ, φ, λ)\n",
    "    return α, θ, φ, λ\n",
    "\n",
    "A = U3(1, 2, 3) @ U3(4, 5, 6)\n",
    "display(array_to_latex(A, precision=3))\n",
    "\n",
    "α, θ, φ, λ = U3_decompose(A)\n",
    "B = np.exp(i * α) * U3(θ, φ, λ)\n",
    "\n",
    "# Should display the same as A\n",
    "display(array_to_latex(B, precision=3))"
   ]
  },
  {
   "cell_type": "markdown",
   "metadata": {},
   "source": [
    "### 4\n",
    "\n",
    "<b>a)</b> Create a function *measure(qc: QuantumCircuit)* that measures all qubits of a circuit and returns *result.get_counts()*. Test it using a circuit implementing $|Φ^+⟩$."
   ]
  },
  {
   "cell_type": "code",
   "execution_count": 11,
   "metadata": {},
   "outputs": [
    {
     "data": {
      "image/png": "[encoded data removed]",
      "text/plain": [
       "<Figure size 287.294x200.667 with 1 Axes>"
      ]
     },
     "execution_count": 11,
     "metadata": {},
     "output_type": "execute_result"
    }
   ],
   "source": [
    "def measure(qc: QuantumCircuit, n_shots=1000):\n",
    "    # result = transpile(qc, backend)\n",
    "    # result.measure_all()\n",
    "    qc.measure_all()\n",
    "    qc_transpiled = transpile(qc, backend)\n",
    "    result = backend.run(qc_transpiled, shots=n_shots).result().get_counts()\n",
    "    return result\n",
    "\n",
    "qc = QuantumCircuit(2)\n",
    "qc.h(1)\n",
    "qc.cx(1,0)\n",
    "qc.draw(\"mpl\", reverse_bits=True)"
   ]
  },
  {
   "cell_type": "markdown",
   "metadata": {},
   "source": [
    "<b>b)</b> Plot the result as a histogram (You can use *plot_histogram* from *qiskit.visualization*)"
   ]
  },
  {
   "cell_type": "code",
   "execution_count": 12,
   "metadata": {},
   "outputs": [
    {
     "data": {
      "image/png": "[encoded data removed]",
      "text/plain": [
       "<Figure size 640x480 with 1 Axes>"
      ]
     },
     "execution_count": 12,
     "metadata": {},
     "output_type": "execute_result"
    }
   ],
   "source": [
    "plot_histogram(measure(qc))"
   ]
  },
  {
   "cell_type": "markdown",
   "metadata": {},
   "source": [
    "<b>c)</b> Modify your measure function such that you can select the number of shots."
   ]
  },
  {
   "cell_type": "markdown",
   "metadata": {},
   "source": [
    "### 5\n",
    "\n",
    "Consider a unitary $ U = (Ry(θ) \\otimes I) \\circ CX  $ in $ \\mathcal{H}^{\\otimes 2} $, with $ θ = \\pi / 4 $\n",
    "\n",
    "<b>a)</b> Calculate $|\\psi \\rangle = U|01\\rangle $ . You can choose whether you wish to do this on paper or with code.\n"
   ]
  },
  {
   "cell_type": "code",
   "execution_count": 13,
   "metadata": {},
   "outputs": [
    {
     "data": {
      "text/latex": [
       "$$\n",
       "\n",
       "\\begin{bmatrix}\n",
       "0.9238795325  \\\\\n",
       " 0  \\\\\n",
       " 0.3826834324  \\\\\n",
       " 0  \\\\\n",
       " \\end{bmatrix}\n",
       "$$"
      ],
      "text/plain": [
       "<IPython.core.display.Latex object>"
      ]
     },
     "execution_count": 13,
     "metadata": {},
     "output_type": "execute_result"
    }
   ],
   "source": [
    "def U_gate(theta=np.pi/4):\n",
    "    sin = np.sin(theta/2)\n",
    "    cos = np.cos(theta/2)\n",
    "    return np.kron(np.array([[cos, -sin],[sin, cos]]), np.eye(2)) @ np.kron(np.eye(2), np.array([[0,1],[1,0]]))\n",
    "\n",
    "psi = U_gate()@np.kron(ket0, ket1)\n",
    "array_to_latex(psi)"
   ]
  },
  {
   "cell_type": "markdown",
   "metadata": {},
   "source": [
    "<b>b)</b> Compute the measurement probabilities for a standard measurement of $|\\psi \\rangle $\n"
   ]
  },
  {
   "cell_type": "code",
   "execution_count": 14,
   "metadata": {},
   "outputs": [
    {
     "name": "stdout",
     "output_type": "stream",
     "text": [
      "[0.85355339 0.         0.14644661 0.        ]\n"
     ]
    },
    {
     "data": {
      "text/latex": [
       "$$\n",
       "\n",
       "\\begin{bmatrix}\n",
       "1.2928932188  \\\\\n",
       " \\end{bmatrix}\n",
       "$$"
      ],
      "text/plain": [
       "<IPython.core.display.Latex object>"
      ]
     },
     "execution_count": 14,
     "metadata": {},
     "output_type": "execute_result"
    }
   ],
   "source": [
    "print(get_state_vector(psi).probabilities())\n",
    "prob = psi.conj().T @ np.diag([1,2,3,4]) @ psi\n",
    "prob\n",
    "array_to_latex(prob)"
   ]
  },
  {
   "cell_type": "markdown",
   "metadata": {},
   "source": [
    "<b>c)</b> Create $|\\psi \\rangle $ as a circuit in Qiskit."
   ]
  },
  {
   "cell_type": "code",
   "execution_count": 15,
   "metadata": {},
   "outputs": [
    {
     "data": {
      "image/png": "[encoded data removed]",
      "text/plain": [
       "<Figure size 287.294x200.667 with 1 Axes>"
      ]
     },
     "execution_count": 15,
     "metadata": {},
     "output_type": "execute_result"
    }
   ],
   "source": [
    "qc = QuantumCircuit(2)\n",
    "\n",
    "qc.ry(np.pi/4, 1)\n",
    "qc.cx(1,0)\n",
    "\n",
    "qc.draw(\"mpl\", reverse_bits=True)"
   ]
  },
  {
   "cell_type": "markdown",
   "metadata": {},
   "source": [
    "<b>d)</b> Measure your circuit. Compare your results to <b>b)</b>"
   ]
  },
  {
   "cell_type": "code",
   "execution_count": 16,
   "metadata": {},
   "outputs": [
    {
     "data": {
      "text/plain": [
       "{'00': 846, '11': 154}"
      ]
     },
     "execution_count": 16,
     "metadata": {},
     "output_type": "execute_result"
    }
   ],
   "source": [
    "measure(qc)"
   ]
  }
 ],
 "metadata": {
  "kernelspec": {
   "display_name": "Python 3 (ipykernel)",
   "language": "python",
   "name": "python3"
  },
  "language_info": {
   "codemirror_mode": {
    "name": "ipython",
    "version": 3
   },
   "file_extension": ".py",
   "mimetype": "text/x-python",
   "name": "python",
   "nbconvert_exporter": "python",
   "pygments_lexer": "ipython3",
   "version": "3.10.12"
  }
 },
 "nbformat": 4,
 "nbformat_minor": 4
}
